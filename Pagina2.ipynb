import streamlit as st
import pandas as pd
import seaborn as sns
import matplotlib.pyplot as plt

st.set_page_config(page_title="Visão Geral da Carteira", layout="wide")

st.title("📊 Visão Geral da Carteira de Crédito")

@st.cache_data
def load_data():
    # Carrega os dados originais
    url = 'https://raw.githubusercontent.com/pegumzs/Prova-final-siep/main/credit_customers.csv'
    df = pd.read_csv(url)
    return df

df = load_data()

# --- KPIs ---
total_clientes = len(df)
taxa_inadimplencia = (df['class'] == 'bad').mean() * 100
valor_medio_credito = df['credit_amount'].mean()

col1, col2, col3 = st.columns(3)
col1.metric("Total de Clientes", f"{total_clientes}")
col2.metric("Taxa de Inadimplência", f"{taxa_inadimplencia:.2f}%")
col3.metric("Valor Médio de Crédito", f"R$ {valor_medio_credito:,.2f}")

st.markdown("---")

# --- Filtros Interativos ---
st.sidebar.header("Filtros Interativos")
idade_min, idade_max = int(df['age'].min()), int(df['age'].max())
selected_age = st.sidebar.slider(
    "Filtrar por Idade",
    min_value=idade_min,
    max_value=idade_max,
    value=(idade_min, idade_max)
)

purpose_list = ['Todos'] + sorted(df['purpose'].unique().tolist())
selected_purpose = st.sidebar.selectbox(
    "Filtrar por Propósito do Crédito",
    purpose_list
)

# Aplicando filtros
df_filtered = df[
    (df['age'] >= selected_age[0]) & (df['age'] <= selected_age[1])
]
if selected_purpose != 'Todos':
    df_filtered = df_filtered[df_filtered['purpose'] == selected_purpose]

# --- Gráficos e Tabela ---
st.subheader("Análise Exploratória Interativa")

col1, col2 = st.columns(2)

with col1:
    fig, ax = plt.subplots()
    sns.histplot(df_filtered, x='credit_amount', hue='class', kde=True, ax=ax, palette=['#5cb85c', '#d9534f'])
    ax.set_title("Distribuição do Valor do Crédito")
    st.pyplot(fig)

with col2:
    fig, ax = plt.subplots()
    sns.countplot(data=df_filtered, y='credit_history', hue='class', palette=['#5cb85c', '#d9534f'])
    ax.set_title("Contagem por Histórico de Crédito")
    st.pyplot(fig)

st.subheader("Dados Filtrados")
st.dataframe(df_filtered)
