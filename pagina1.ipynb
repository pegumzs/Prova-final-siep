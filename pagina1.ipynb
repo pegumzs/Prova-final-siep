import streamlit as st

st.set_page_config(
    page_title="Dashboard de Risco de Crédito",
    page_icon="💳",
    layout="wide"
)

st.title("💳 Dashboard de Análise de Risco de Crédito")
st.markdown("---")

st.markdown("""
    ### Bem-vindo(a) ao Sistema de Apoio à Decisão!

    Este dashboard interativo foi desenvolvido como parte do projeto final da disciplina de Modelos de Otimização e Tomada de Decisão, utilizando técnicas de Machine Learning e XAI (Explainable AI) para analisar o risco de crédito de clientes.

    **O que você pode fazer aqui?**

    1.  **📊 Visão Geral da Carteira:** Explore a distribuição dos dados dos clientes de forma interativa.
    2.  **🚀 Simulador de Risco:** Avalie o risco de um cliente existente ou simule um novo perfil para obter uma previsão e entender os fatores por trás da decisão do modelo.
    3.  **🔍 Análise de Segmentos:** Veja como os clientes são agrupados em diferentes perfis e identifique grupos de maior risco.

    **Como navegar:**
    Use o menu na barra lateral à esquerda para acessar as diferentes seções da análise.

    ---
    **Autor:** [Seu Nome]
    **Base de Dados:** Credit Risk Customers (Kaggle)
    **Data de Entrega:** 10/07/2025
""")

# Adicionar uma imagem ou logo, se desejar
# st.image("caminho/para/sua/imagem.png")
