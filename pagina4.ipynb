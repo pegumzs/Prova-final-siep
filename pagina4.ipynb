import streamlit as st
import pandas as pd
import joblib
import seaborn as sns
import matplotlib.pyplot as plt

st.set_page_config(page_title="Análise de Segmentos", layout="wide")
st.title("🔍 Análise de Segmentos e Detecção de Anomalias")

# --- Carregamento de Dados e Artefatos ---
@st.cache_resource
def load_artifacts():
    pca = joblib.load('artifacts/pca_model.pkl')
    kmeans = joblib.load('artifacts/kmeans_model.pkl')
    dbscan = joblib.load('artifacts/dbscan_model.pkl')
    scaler = joblib.load('artifacts/scaler.pkl')
    return pca, kmeans, dbscan, scaler

@st.cache_data
def load_data():
    url = 'https://raw.githubusercontent.com/pegumzs/Prova-final-siep/main/credit_customers.csv'
    df = pd.read_csv(url)
    df_encoded = pd.get_dummies(df, drop_first=True)
    X_cluster = df_encoded.drop('class_good', axis=1)
    return df, X_cluster

pca, kmeans, dbscan, scaler = load_artifacts()
df_original, X_cluster = load_data()

# --- Processamento ---
X_scaled = scaler.transform(X_cluster)
X_pca = pca.transform(X_scaled)

df_analysis = df_original.copy()
df_analysis['cluster_kmeans'] = kmeans.labels_
df_analysis['cluster_dbscan'] = dbscan.labels_
df_analysis['pca1'] = X_pca[:, 0]
df_analysis['pca2'] = X_pca[:, 1]


# --- Visualizações ---
st.subheader("Visualização dos Perfis de Clientes (Clusters KMeans)")

col1, col2 = st.columns([2, 1])

with col1:
    fig, ax = plt.subplots(figsize=(10, 8))
    
    highlight_outliers = st.checkbox("Destacar clientes atípicos (outliers DBSCAN)")
    
    if highlight_outliers:
        # Plot normal
        sns.scatterplot(data=df_analysis[df_analysis['cluster_dbscan'] != -1], x='pca1', y='pca2', hue='cluster_kmeans', palette='viridis', ax=ax, s=50, alpha=0.6)
        # Plot dos outliers
        sns.scatterplot(data=df_analysis[df_analysis['cluster_dbscan'] == -1], x='pca1', y='pca2', color='red', marker='x', s=100, label='Outliers', ax=ax)
    else:
        sns.scatterplot(data=df_analysis, x='pca1', y='pca2', hue='cluster_kmeans', palette='viridis', ax=ax, s=50, alpha=0.7)

    ax.set_title("Segmentação de Clientes via PCA e KMeans")
    ax.set_xlabel("Componente Principal 1")
    ax.set_ylabel("Componente Principal 2")
    st.pyplot(fig)

with col2:
    risk_by_cluster_pct = pd.crosstab(df_analysis['cluster_kmeans'], df_analysis['class'], normalize='index').mul(100)
    
    fig, ax = plt.subplots()
    risk_by_cluster_pct.plot(kind='bar', stacked=True, color=['#5cb85c', '#d9534f'], ax=ax)
    ax.set_title("Taxa de Inadimplência por Cluster")
    ax.set_ylabel("Percentual (%)")
    ax.set_xlabel("Cluster KMeans")
    ax.legend(title='Classe')
    st.pyplot(fig)
    
    st.markdown("""
    **Análise:**
    - O gráfico PCA mostra a separação visual dos clusters.
    - O gráfico de barras revela a taxa de risco de cada segmento. Podemos ver claramente quais grupos de clientes são mais ou menos propensos à inadimplência.
    - Marcar o checkbox destaca os outliers, que, como vimos na análise, são majoritariamente clientes de alto risco.
    """)
