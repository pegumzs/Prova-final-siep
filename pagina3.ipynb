import streamlit as st
import pandas as pd
import joblib
import shap
import matplotlib.pyplot as plt

st.set_page_config(page_title="Simulador de Risco", layout="wide")
st.title("🚀 Simulador e Análise de Risco Individual")

# --- Carregamento dos Artefatos ---
# Usar cache para não recarregar os modelos a cada interação
@st.cache_resource
def load_artifacts():
    model = joblib.load('artifacts/xgboost_model.pkl')
    scaler = joblib.load('artifacts/scaler.pkl')
    explainer = joblib.load('artifacts/shap_explainer.pkl')
    X_test_ref = joblib.load('artifacts/X_test.pkl') # Usado como referência para colunas
    return model, scaler, explainer, X_test_ref

model, scaler, explainer, X_test_ref = load_artifacts()

# --- Seleção do Cliente ---
st.sidebar.header("Opções de Análise")
analysis_option = st.sidebar.radio(
    "Escolha uma opção:",
    ("Selecionar Cliente da Base", "Simular Novo Cliente")
)

client_data = None
client_index = None

if analysis_option == "Selecionar Cliente da Base":
    client_index = st.sidebar.selectbox("Selecione o ID do Cliente (índice)", X_test_ref.index)
    client_data = X_test_ref.loc[[client_index]]
    st.subheader(f"Analisando Cliente Existente: ID {client_index}")
    st.dataframe(client_data)

else:
    st.subheader("Simular um Novo Cliente")
    st.sidebar.markdown("Preencha os dados do novo cliente:")
    # Criar inputs para as principais variáveis (simplificado para o exemplo)
    # Em um projeto real, todos os inputs do modelo seriam necessários
    duration = st.sidebar.slider("Duração do Crédito (meses)", 6, 72, 24)
    credit_amount = st.sidebar.number_input("Valor do Crédito", 500, 20000, 5000)
    age = st.sidebar.slider("Idade", 18, 75, 35)
    
    # Criar um dataframe com os dados do cliente simulado
    # Importante: deve ter as mesmas colunas que o X_test_ref
    simulated_data_dict = {col: [0] for col in X_test_ref.columns}
    simulated_data_dict['duration'][0] = duration
    simulated_data_dict['credit_amount'][0] = credit_amount
    simulated_data_dict['age'][0] = age
    client_data = pd.DataFrame(simulated_data_dict)


# --- Previsão e Análise SHAP ---
if client_data is not None:
    # Escalonar os dados da mesma forma que no treino
    client_data_scaled = scaler.transform(client_data)
    
    # Fazer a previsão
    prediction_proba = model.predict_proba(client_data_scaled)[0]
    prediction = model.predict(client_data_scaled)[0]

    st.markdown("---")
    st.subheader("Resultado da Análise de Risco")
    
    col1, col2 = st.columns(2)
    if prediction == 1:
        col1.success("RISCO BAIXO (Aprovado)")
    else:
        col1.error("RISCO ALTO (Requer Análise)")
    
    col2.metric("Probabilidade de ser Bom Pagador", f"{prediction_proba[1]:.2%}")

    # --- Análise SHAP ---
    st.subheader("Por que o modelo tomou essa decisão? (Análise SHAP)")
    
    # Calcular os valores SHAP para a instância selecionada
    shap_values_instance = explainer(client_data)
    
    # Plot do Waterfall
    fig, ax = plt.subplots()
    shap.waterfall_plot(shap_values_instance[0], show=False)
    st.pyplot(fig)
    
    st.markdown("""
    **Como ler o gráfico:**
    - **E[f(x)]**: É a previsão base, a média de risco para todos os clientes.
    - **Setas vermelhas (↑)**: Fatores que **aumentam** o risco de inadimplência.
    - **Setas azuis (↓)**: Fatores que **diminuem** o risco.
    - **f(x)**: É a previsão final para este cliente específico.
    """)
